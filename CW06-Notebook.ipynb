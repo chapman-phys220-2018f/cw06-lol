{
 "cells": [
  {
   "cell_type": "code",
   "execution_count": 1,
   "metadata": {
    "collapsed": false
   },
   "outputs": [
   ],
   "source": [
    "import elementary"
   ]
  },
  {
   "cell_type": "code",
   "execution_count": 2,
   "metadata": {
    "collapsed": false
   },
   "outputs": [
   ],
   "source": [
    "# Basic plotting defaults\n",
    "import matplotlib.pyplot as plt\n",
    "%matplotlib inline\n",
    "import elementary as el\n",
    "# Use better color defaults\n",
    "plt.style.use(\"seaborn-pastel\")\n",
    "\n",
    "# (Optional) Enable interactivity for plots in notebook\n",
    "# Note: This will not work with CoCalc notebooks - you must switch to a \"Classic Notebook\" in the File menu\n",
    "# It is recommended that you use this to explore, but then turn it off when making static plots for presentation\n",
    "#import mpld3\n",
    "#mpld3.enable_notebook()"
   ]
  },
  {
   "cell_type": "code",
   "execution_count": 3,
   "metadata": {
    "collapsed": false
   },
   "outputs": [
    {
     "ename": "TypeError",
     "evalue": "__init__() takes 3 positional arguments but 4 were given",
     "output_type": "error",
     "traceback": [
      "\u001b[0;31m---------------------------------------------------------------------------\u001b[0m",
      "\u001b[0;31mTypeError\u001b[0m                                 Traceback (most recent call last)",
      "\u001b[0;32m<ipython-input-3-506ea80bc384>\u001b[0m in \u001b[0;36m<module>\u001b[0;34m()\u001b[0m\n\u001b[1;32m      1\u001b[0m \u001b[0mparticle\u001b[0m \u001b[0;34m=\u001b[0m \u001b[0melementary\u001b[0m\u001b[0;34m.\u001b[0m\u001b[0mParticle\u001b[0m\u001b[0;34m(\u001b[0m\u001b[0;36m0\u001b[0m\u001b[0;34m,\u001b[0m\u001b[0;36m0\u001b[0m\u001b[0;34m,\u001b[0m\u001b[0;36m1\u001b[0m\u001b[0;34m)\u001b[0m\u001b[0;34m\u001b[0m\u001b[0m\n\u001b[0;32m----> 2\u001b[0;31m \u001b[0mproton\u001b[0m \u001b[0;34m=\u001b[0m \u001b[0melementary\u001b[0m\u001b[0;34m.\u001b[0m\u001b[0mProton\u001b[0m\u001b[0;34m(\u001b[0m\u001b[0;36m0\u001b[0m\u001b[0;34m,\u001b[0m\u001b[0;36m0\u001b[0m\u001b[0;34m,\u001b[0m\u001b[0;36m2\u001b[0m\u001b[0;34m)\u001b[0m\u001b[0;34m\u001b[0m\u001b[0m\n\u001b[0m\u001b[1;32m      3\u001b[0m \u001b[0melectron\u001b[0m \u001b[0;34m=\u001b[0m \u001b[0melementary\u001b[0m\u001b[0;34m.\u001b[0m\u001b[0mElectron\u001b[0m\u001b[0;34m(\u001b[0m\u001b[0;36m0\u001b[0m\u001b[0;34m,\u001b[0m\u001b[0;36m0\u001b[0m\u001b[0;34m,\u001b[0m\u001b[0;36m3\u001b[0m\u001b[0;34m)\u001b[0m\u001b[0;34m\u001b[0m\u001b[0m\n\u001b[1;32m      4\u001b[0m \u001b[0;34m\u001b[0m\u001b[0m\n\u001b[1;32m      5\u001b[0m \u001b[0;31m#particel_v = elementary.Particle.impulse(0,0,10/particle.m)\u001b[0m\u001b[0;34m\u001b[0m\u001b[0;34m\u001b[0m\u001b[0m\n",
      "\u001b[0;31mTypeError\u001b[0m: __init__() takes 3 positional arguments but 4 were given"
     ]
    }
   ],
   "source": [
    "particle = elementary.Particle(0,0,1)\n",
    "proton = elementary.Proton(0,0,2)\n",
    "electron = elementary.Electron(0,0,3)\n",
    "\n",
    "#particel_v = elementary.Particle.impulse(0,0,10/particle.m)\n",
    "#proton_v = elementary.Proton.impulse(0,0,10/particle.m)\n",
    "#electron_v = elementary.Electron(0,0,10/particle.m)\n",
    "\n"
   ]
  },
  {
   "cell_type": "markdown",
   "metadata": {
    "collapsed": false
   },
   "source": [
    " $\\vec{v}_0 = (10,\\text{kg m/s}),\\hat{k} \\sim (0,,0,,10),\\text{kg m/s}$ (straight up). Start the initial positions at $\\vec{r}_0 \\sim (0,,0,,1)\\text{m}$, $(0,,0,,2)\\text{m}$, and $(0,,0,,3)\\text{m}$, respectively, where $\\vec{r} \\sim (x,,y,,z)$."
   ]
  },
  {
   "cell_type": "code",
   "execution_count": 0,
   "metadata": {
    "collapsed": false
   },
   "outputs": [
   ],
   "source": [
    "xpoints = [0,1,2]\n",
    "p1 = elementary.Particle[0,0,1]\n",
    "p1.impulse [0,,4]\n",
    "\n",
    "# First create a figure, with \"handle\" stored in variable f\n",
    "# The figsize is displayed in inches (on a printed page), with (width, height)\n",
    "f = plt.figure(figsize=(8,6))\n",
    "# Then create axes on the figure, with \"handle\" stored in variable a\n",
    "a = plt.axes()\n",
    "# Explicitly plot matched pairs of x-y points on the axis a\n",
    "a.plot(xpoints, ypoints, label=\"Particle 1\")\n",
    "# Explicitly plot different matched pair of x-y points, with circle markers in a different color\n",
    "a.plot(xpoints, ypoints2, marker=\"o\", color=\"Red\", label=\"Particle 2\")\n",
    "# Explicitly set axis labels and a plot title\n",
    "a.set(xlabel=\"Time (s)\", ylabel=\"Position (m)\", title=\"Particle Trajectory\")\n",
    "# Add a legend describing which curve is which\n",
    "a.legend()\n",
    "# Show the active plot to the screen\n",
    "plt.show()"
   ]
  },
  {
   "cell_type": "code",
   "execution_count": 0,
   "metadata": {
    "collapsed": false
   },
   "outputs": [
   ],
   "source": [
   ]
  }
 ],
 "metadata": {
  "kernelspec": {
   "display_name": "Python 3 (Anaconda 5)",
   "language": "python",
   "name": "anaconda5"
  },
  "language_info": {
   "codemirror_mode": {
    "name": "ipython",
    "version": 3
   },
   "file_extension": ".py",
   "mimetype": "text/x-python",
   "name": "python",
   "nbconvert_exporter": "python",
   "pygments_lexer": "ipython3",
   "version": "3.6.5"
  }
 },
 "nbformat": 4,
 "nbformat_minor": 0
}