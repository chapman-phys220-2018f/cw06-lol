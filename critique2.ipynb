{
 "cells": [
  {
   "cell_type": "markdown",
   "metadata": {
    "collapsed": false
   },
   "source": [
    "\n",
    "# CW 06\n",
    "\n",
    "Gabriella Nutt\n",
    "\n",
    "10/2/18"
   ]
  },
  {
   "cell_type": "markdown",
   "metadata": {
    "collapsed": false
   },
   "source": [
    "# Instructions\n",
    "Have one member of your group (the \"reviewee\") open the python code for their previous CW04 (i.e., the module, the test module, and the Juyter notebook). Have the other member (the \"reviewer\") constructively critique the code in a clearly labeled section of the critique Jupyter notebook. Use the following questions as a guideline: \n",
    "\n",
    "Is it clear how the code is organized? \n",
    "\n",
    "It is clear and organized. There are docstrings and supplementary comments that discribe what each function does.\n",
    "\n",
    "Is the code properly documented with both docstrings and supplementary comments according to industry standards? \n",
    "\n",
    "Yes. It is very easy to follow and has seems to be up to coding standards.\n",
    "\n",
    "Can you follow the algorithm of the code, i.e., what it is doing, and how? Does the code work? (Try cloning the respository and running it yourself to make sure it runs correctly.) \n",
    "The code prints out a list of prime numbers. It works because they wrote a function that used the eratosthanes function to prime numbers.\n",
    "\n",
    "Do you see any suggestions for how to improve the code? Are the test cases in the test module run by the code automatically by Travis?\n",
    "\n",
    "Maybe a few more comments would have made it perfect! Yes the test case are being run by travis.\n",
    "\n",
    "Do the tests verify correct functionality? On a scale of 0-100, the reviewer should rate the work produced by the reviewee. As the reviewer writes this critique and evaluation into the Jupyter notebook, the reviewer should discuss these questions and any issues that arise with the reviewee."
   ]
  },
  {
   "cell_type": "code",
   "execution_count": 4,
   "metadata": {
    "collapsed": false
   },
   "outputs": [
   ],
   "source": [
   ]
  },
  {
   "cell_type": "code",
   "execution_count": 0,
   "metadata": {
    "collapsed": false
   },
   "outputs": [
   ],
   "source": [
   ]
  }
 ],
 "metadata": {
  "kernelspec": {
   "display_name": "Python 3 (Anaconda 5)",
   "language": "python",
   "name": "anaconda5"
  },
  "language_info": {
   "codemirror_mode": {
    "name": "ipython",
    "version": 3
   },
   "file_extension": ".py",
   "mimetype": "text/x-python",
   "name": "python",
   "nbconvert_exporter": "python",
   "pygments_lexer": "ipython3",
   "version": "3.6.5"
  }
 },
 "nbformat": 4,
 "nbformat_minor": 0
}